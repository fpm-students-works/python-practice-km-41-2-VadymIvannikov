{
  "cells": [
    {
      "cell_type": "markdown",
      "metadata": {
        "id": "FMqboNwO4rVs"
      },
      "source": [
        "# **Курс \"Програмування на мові Python\"**"
      ]
    },
    {
      "cell_type": "markdown",
      "metadata": {
        "id": "A2T6MigL5Z06"
      },
      "source": [
        "## **Практичне зайняття №17**\n",
        "\n",
        "### Тема: \"Створення модулів. Робота з модулями\""
      ]
    },
    {
      "cell_type": "markdown",
      "metadata": {
        "id": "cfCdgK2zXm7e"
      },
      "source": [
        "### **Завдання 1 (3 бали)**\n",
        "\n",
        "1. Створіть проект Practice_17_KM-11_surname (surname - ваше прізвище латиницею).\n",
        "\n",
        "2. У цьому проекті створіть 3 пакети:\n",
        "\n",
        "    1) Перший пакет (factorial) повинен містить 1 модуль - factorial. У модулі factorial має бути функція fact(), що прийматиме на вхід певне натуральне число і повертатиме значення факторіалу цього числа. Файл ```__init__.py``` першого пакета має містити інструкцію print(), що виводить текст \"The \"factorial\" module has been imported\".\n",
        "\n",
        "    2) Другий пакет (exp_root) повинен містити 2 модулі: exponentiation та root. У модулі exponentiation має бути 2 функції: exp2(), що приймає на вхід будь-яке число і підносить його до квадрату, та exp3(), що підносить число до третього степеня. У модулі root також маж бути 2 функції: root2(), що приймає на вхід додатне число і повертає його квадратний корінь, та root3(), що повертає коріть третього степеня. Файл ```__init__.py``` другого пакета має містити інструкцію print(), що виводить текст \"The \"exp_root\" module has been imported\".\n",
        "\n",
        "    3) Третій пакет (logarithm) повинен містити 1 модуль - logarithm. У ньому має бути 3 функції: log(), ln() та lg(). Перша має приймати на вхід 2 числа: основу *а* (a>0, а!=1) та число *b* (b>0). Друга та третя функції (натуральний та десятковий логарифми відповідно) мають приймати на вхід одне число *b* (b>0). Файл ```__init__.py``` третього пакета має містити інструкцію print(), що виводить текст \"The \"logarithm\" module has been imported\".\n",
        "\n",
        "3. Усі функції мають бути імпортовані у код файлу main.py. У функції main() зробіть \"меню\", в якому користувач зможе обрату ту чи іншу функцію. Після вибору функції програма має запропонувати користувачеві ввести відповідні дані, перевірити правильність введених даних та підрахувати результат. Функція main() має автоматично запускатись, якщо файл було відкрито як скрипт.\n",
        "\n",
        "4. Проект з усіма пакетами та файлом main.py завантажте на GitHub."
      ]
    },
    {
      "cell_type": "code",
      "execution_count": 33,
      "metadata": {},
      "outputs": [
        {
          "name": "stdout",
          "output_type": "stream",
          "text": [
            "Виберіть функцію:\n",
            "1. Факторіал\n",
            "2. Піднесення до квадрату\n",
            "3. Піднесення до куба\n",
            "4. Квадратний корінь\n",
            "5. Корінь третього степеня\n",
            "6. Логарифм\n",
            "7. Вийти\n",
            "3.0^3 = 27.0\n",
            "Виберіть функцію:\n",
            "1. Факторіал\n",
            "2. Піднесення до квадрату\n",
            "3. Піднесення до куба\n",
            "4. Квадратний корінь\n",
            "5. Корінь третього степеня\n",
            "6. Логарифм\n",
            "7. Вийти\n",
            "Вихід з програми.\n"
          ]
        }
      ],
      "source": [
        "from factorial.factorial import fact\n",
        "from exp_root.exponentiations import exp2, exp3\n",
        "from exp_root.root import root2, root3\n",
        "from logarithm.logarithm import log, ln, lg\n",
        "\n",
        "def main():\n",
        "    while True:\n",
        "        print(\"Виберіть функцію:\")\n",
        "        print(\"1. Факторіал\")\n",
        "        print(\"2. Піднесення до квадрату\")\n",
        "        print(\"3. Піднесення до куба\")\n",
        "        print(\"4. Квадратний корінь\")\n",
        "        print(\"5. Корінь третього степеня\")\n",
        "        print(\"6. Логарифм\")\n",
        "        print(\"7. Вийти\")\n",
        "        \n",
        "        choice = input(\"Ваш вибір: \")\n",
        "        \n",
        "        if choice == '1':\n",
        "            num = int(input(\"Введіть число для факторіалу: \"))\n",
        "            print(f\"Факторіал числа {num} = {fact(num)}\")\n",
        "        \n",
        "        elif choice == '2':\n",
        "            num = float(input(\"Введіть число для піднесення до квадрату: \"))\n",
        "            print(f\"{num}^2 = {exp2(num)}\")\n",
        "        \n",
        "        elif choice == '3':\n",
        "            num = float(input(\"Введіть число для піднесення до куба: \"))\n",
        "            print(f\"{num}^3 = {exp3(num)}\")\n",
        "        \n",
        "        elif choice == '4':\n",
        "            num = float(input(\"Введіть число для квадратного кореня: \"))\n",
        "            print(f\"Квадратний корінь з {num} = {root2(num)}\")\n",
        "        \n",
        "        elif choice == '5':\n",
        "            num = float(input(\"Введіть число для кореня третього степеня: \"))\n",
        "            print(f\"Корінь третього степеня з {num} = {root3(num)}\")\n",
        "        \n",
        "        elif choice == '6':\n",
        "            log_choice = input(\"Виберіть логарифм: (log/ln/lg): \").strip()\n",
        "            if log_choice == 'log':\n",
        "                base = float(input(\"Введіть основу логарифму: \"))\n",
        "                num = float(input(\"Введіть число для логарифму: \"))\n",
        "                print(f\"Logaritm з основою {base} та числом {num} = {log(base, num)}\")\n",
        "            elif log_choice == 'ln':\n",
        "                num = float(input(\"Введіть число для натурального логарифму: \"))\n",
        "                print(f\"Ln з числа {num} = {ln(num)}\")\n",
        "            elif log_choice == 'lg':\n",
        "                num = float(input(\"Введіть число для десятового логарифму: \"))\n",
        "                print(f\"Lg з числа {num} = {lg(num)}\")\n",
        "        \n",
        "        elif choice == '7':\n",
        "            print(\"Вихід з програми.\")\n",
        "            break\n",
        "        else:\n",
        "            print(\"Невірний вибір. Спробуйте ще раз.\")\n",
        "\n",
        "if __name__ == \"__main__\":\n",
        "    main()\n"
      ]
    }
  ],
  "metadata": {
    "colab": {
      "collapsed_sections": [],
      "name": "Practice_14_KM_01.ipynb",
      "provenance": []
    },
    "kernelspec": {
      "display_name": "Python 3",
      "name": "python3"
    },
    "language_info": {
      "codemirror_mode": {
        "name": "ipython",
        "version": 3
      },
      "file_extension": ".py",
      "mimetype": "text/x-python",
      "name": "python",
      "nbconvert_exporter": "python",
      "pygments_lexer": "ipython3",
      "version": "3.12.6"
    }
  },
  "nbformat": 4,
  "nbformat_minor": 0
}
