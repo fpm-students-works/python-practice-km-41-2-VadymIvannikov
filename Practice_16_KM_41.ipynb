{
  "cells": [
    {
      "cell_type": "markdown",
      "metadata": {
        "id": "FMqboNwO4rVs"
      },
      "source": [
        "# **Курс \"Програмування на мові Python\"**"
      ]
    },
    {
      "cell_type": "markdown",
      "metadata": {
        "id": "A2T6MigL5Z06"
      },
      "source": [
        "## **Практичне зайняття №14**\n",
        "\n",
        "### Тема: \"Робота зі спеціальними форматами файлів\""
      ]
    },
    {
      "cell_type": "markdown",
      "metadata": {
        "id": "A34oz70eU463"
      },
      "source": [
        "### **Завдання 1 (1,5 бали)**\n",
        "\n",
        "Створіть CSV-файл, що буде містити від 5 до 10 пісень (творів) вашого улюбленого музиканта. Назва файлу - ім'я музиканта (композитора) або назва гурту.\n",
        "\n",
        "1. Обов'язково додайте до файлу рядок з назвами двох колонок (Song, Year) або (Composition, Year).\n",
        "\n",
        "2. Після запису файлу роздрукуйте назву файлу та усі наявні у файлі рядки (включно із заголовками).\n",
        "\n",
        "3. Для запису та зчитування рядків скористайтесь функціями csv.DictWriter() та csv.DictReader()."
      ]
    },
    {
      "cell_type": "code",
      "execution_count": 1,
      "metadata": {
        "id": "MEJIrG1GU463"
      },
      "outputs": [
        {
          "name": "stdout",
          "output_type": "stream",
          "text": [
            "File Name: Juice_WRLD.csv\n",
            "Contents:\n",
            "{'Song': 'Lucid Dreams', 'Year': '2018'}\n",
            "{'Song': 'All Girls Are The Same', 'Year': '2018'}\n",
            "{'Song': 'Doom', 'Year': '2019'}\n",
            "{'Song': 'Legends', 'Year': '2018'}\n",
            "{'Song': 'Wishing Well', 'Year': '2020'}\n",
            "{'Song': 'Come & Go', 'Year': '2020'}\n",
            "{'Song': 'Already dead', 'Year': '2019'}\n",
            "{'Song': 'Lean Wit Me', 'Year': '2018'}\n",
            "{'Song': 'Used to', 'Year': '2018'}\n"
          ]
        }
      ],
      "source": [
        "\n",
        "import csv\n",
        "\n",
        "\n",
        "file_name = 'Juice_WRLD.csv'\n",
        "\n",
        "\n",
        "songs = [\n",
        "    {\"Song\": \"Lucid Dreams\", \"Year\": 2018},\n",
        "    {\"Song\": \"All Girls Are The Same\", \"Year\": 2018},\n",
        "    {\"Song\": \"Doom\", \"Year\": 2019},\n",
        "    {\"Song\": \"Legends\", \"Year\": 2018},\n",
        "    {\"Song\": \"Wishing Well\", \"Year\": 2020},\n",
        "    {\"Song\": \"Come & Go\", \"Year\": 2020},\n",
        "    {\"Song\": \"Already dead\", \"Year\": 2019},\n",
        "    {\"Song\": \"Lean Wit Me\", \"Year\": 2018},\n",
        "    {\"Song\": \"Used to\", \"Year\": 2018}\n",
        "]\n",
        "\n",
        "with open(file_name, mode='w', newline='') as file:\n",
        "    writing = csv.DictWriter(file, fieldnames=[\"Song\", \"Year\"])\n",
        "    writing.writeheader()  \n",
        "    writing.writerows(songs)  \n",
        "\n",
        "\n",
        "with open(file_name, mode='r') as file:\n",
        "    reading = csv.DictReader(file)\n",
        "    rows = list(reading)\n",
        "\n",
        "print(f\"File Name: {file_name}\")\n",
        "print(\"Contents:\")\n",
        "for row in rows:\n",
        "    print(row)\n"
      ]
    },
    {
      "cell_type": "markdown",
      "metadata": {
        "id": "Jb-eSBsWU464"
      },
      "source": [
        "### **Завдання 2 (1,5 бали)**\n",
        "\n",
        "COCO Dataset - набір фотографій та анотацій до них. Його дуже часто використовують для тренування класифікаторів, призначених для розпізнавання об'єктів та визначення ключових точок на зображеннях.\n",
        "\n",
        "Завантажте файли з описом фотографій COCO Dataset за посиланням: [COCO Dataset](http://images.cocodataset.org/annotations/image_info_test2017.zip).\n",
        "\n",
        "Відкрийте файл image_info_test-dev2017.json. Інформація про фотографії з бази COCO міститься у полі \"images\". Інформація про категорії, на які розділені всі фотографії, міститься у полі \"categories\".\n",
        "\n",
        "1. Визначте кількість фотографій, інформацію про які можна знайти у цьому файлі (кількість елементів, що відповідають ключу \"images\").\n",
        "\n",
        "2. Визначте кількість наявних категорій (кількість елементів, що відповідають ключу \"categories\").\n",
        "\n",
        "3. Виведіть посилання на фотографію 000000000001.jpg (\"coco_url\"). Також виведіть висоту цієї фотографії (\"height\"), ширину (\"width\") та її ідентифікатор (\"id\").\n",
        "\n",
        "4. Виведіть назву фотографії з набільшим номером.\n",
        "\n",
        "Опис структури JSON-файлу для набору фотографій COCO можна знайти за посиланням: [Data format](https://cocodataset.org/#format-data).\n",
        "\n",
        "Щоб перевірити правильність результатів, у VS Code встановіть розширення JSON та відкрийте файл image_info_test-dev2017.json. Розширення автоматично визначає кількість елементів у кожному полі."
      ]
    },
    {
      "cell_type": "code",
      "execution_count": 5,
      "metadata": {},
      "outputs": [
        {
          "name": "stdout",
          "output_type": "stream",
          "text": [
            "Кількість фотографій: 40670\n",
            "Кількість категорій: 80\n",
            "Посилання на фотографію: http://images.cocodataset.org/test2017/000000000001.jpg\n",
            "Висота: 480\n",
            "Ширина: 640\n",
            "Ідентифікатор фотографії: 1\n",
            "Назва фотографії з найбільшим номером: 000000581918.jpg\n"
          ]
        }
      ],
      "source": [
        "import json\n",
        "\n",
        "file_name = \"image_info_test2017.json\"\n",
        "with open(file_name, 'r') as f:\n",
        "    data = json.load(f)\n",
        "\n",
        "\n",
        "num_images = len(data['images'])\n",
        "print(f\"Кількість фотографій: {num_images}\")\n",
        "\n",
        "num_categories = len(data['categories'])\n",
        "print(f\"Кількість категорій: {num_categories}\")\n",
        "\n",
        "image_1 = next(image for image in data['images'] if image['file_name'] == '000000000001.jpg')\n",
        "print(f\"Посилання на фотографію: {image_1['coco_url']}\")\n",
        "print(f\"Висота: {image_1['height']}\")\n",
        "print(f\"Ширина: {image_1['width']}\")\n",
        "print(f\"Ідентифікатор фотографії: {image_1['id']}\")\n",
        "\n",
        "max_image = None\n",
        "for image in data['images']:\n",
        "    if max_image is None or image['id'] > max_image['id']:\n",
        "        max_image = image\n",
        "print(f\"Назва фотографії з найбільшим номером: {max_image['file_name']}\")"
      ]
    }
  ],
  "metadata": {
    "colab": {
      "collapsed_sections": [],
      "name": "Practice_14_KM_01.ipynb",
      "provenance": []
    },
    "kernelspec": {
      "display_name": "Python 3",
      "name": "python3"
    },
    "language_info": {
      "codemirror_mode": {
        "name": "ipython",
        "version": 3
      },
      "file_extension": ".py",
      "mimetype": "text/x-python",
      "name": "python",
      "nbconvert_exporter": "python",
      "pygments_lexer": "ipython3",
      "version": "3.12.6"
    }
  },
  "nbformat": 4,
  "nbformat_minor": 0
}
